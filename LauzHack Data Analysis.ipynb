{
 "cells": [
  {
   "cell_type": "code",
   "execution_count": 284,
   "metadata": {
    "collapsed": false
   },
   "outputs": [],
   "source": [
    "import pandas as pd\n",
    "import glob\n",
    "import math\n",
    "import datetime\n",
    "import matplotlib.pyplot as plt\n",
    "from ipykernel import kernelapp as app\n",
    "%matplotlib inline"
   ]
  },
  {
   "cell_type": "code",
   "execution_count": 2,
   "metadata": {
    "collapsed": false
   },
   "outputs": [
    {
     "name": "stderr",
     "output_type": "stream",
     "text": [
      "C:\\Users\\Pau Batlle\\Anaconda2\\lib\\site-packages\\IPython\\core\\interactiveshell.py:2723: DtypeWarning: Columns (0,1,2,3,4,5,7,9,10,11,13,14,15,16,17,18,19,20) have mixed types. Specify dtype option on import or set low_memory=False.\n",
      "  interactivity=interactivity, compiler=compiler, result=result)\n"
     ]
    }
   ],
   "source": [
    "ds = []\n",
    "for file in glob.glob(\"*.csv\"): #assuming all csv are on the same directory as the notebook\n",
    "    if file != \"Places.csv\":\n",
    "        month = file[5:7]\n",
    "        day = file[8:10]\n",
    "        ds.append([pd.read_csv(file, sep = \";\"), day, month])\n",
    "        ds[-1][0].columns = [\"Day\", \"Trip_ID\", \"Operator_ID\", \"Shortform_Operator_Name\", \"Full_Operator_Name\", \"Transport_Mean_ID\", \n",
    "                             \"Technical_Key\", \"Communicated_Text\", \"Identify_Daily_Routine\", \"Transport_Mean\", \"Additional_Coaches\",\n",
    "                             \"Cancelled\", \"Commercial_Stop_Identifyer\", \"Commercial_Stop_Name\", \"Arrival_Time\",\"Expected_Arrival_Time\",\n",
    "                            \"Ex_Status\", \"Departure_Time\", \"Expected_Departure_Time\", \"De_Status\", \"Stopped_as_expected\"]"
   ]
  },
  {
   "cell_type": "code",
   "execution_count": 5,
   "metadata": {
    "collapsed": false
   },
   "outputs": [],
   "source": [
    "Station_Numbers = pd.read_csv(\"Places.csv\", names = [\"Number\", \"Station\"])"
   ]
  },
  {
   "cell_type": "code",
   "execution_count": 7,
   "metadata": {
    "collapsed": false
   },
   "outputs": [],
   "source": [
    "cities_day_weather = pd.read_json(\"cities-day-weather.json\")"
   ]
  },
  {
   "cell_type": "code",
   "execution_count": 13,
   "metadata": {
    "collapsed": false
   },
   "outputs": [],
   "source": [
    "l = [ds[i][0] for i in range(len(ds))]"
   ]
  },
  {
   "cell_type": "code",
   "execution_count": 15,
   "metadata": {
    "collapsed": true
   },
   "outputs": [],
   "source": [
    "mega_list = pd.concat(l)"
   ]
  },
  {
   "cell_type": "code",
   "execution_count": 3,
   "metadata": {
    "collapsed": true
   },
   "outputs": [],
   "source": [
    "def floty(x):\n",
    "    if type(x) == float:\n",
    "        return x\n",
    "    return 0\n",
    "def nnan(x):\n",
    "    return not(math.isnan(x))"
   ]
  },
  {
   "cell_type": "code",
   "execution_count": 48,
   "metadata": {
    "collapsed": true
   },
   "outputs": [],
   "source": [
    "def weekday(s):\n",
    "    return datetime.date(int(s[6:10]),int(s[3:5]), int(s[0:2])).weekday()"
   ]
  },
  {
   "cell_type": "code",
   "execution_count": 88,
   "metadata": {
    "collapsed": false,
    "scrolled": false
   },
   "outputs": [],
   "source": [
    "s = mega_list[\"Day\"].tolist()"
   ]
  },
  {
   "cell_type": "code",
   "execution_count": 96,
   "metadata": {
    "collapsed": false
   },
   "outputs": [
    {
     "name": "stdout",
     "output_type": "stream",
     "text": [
      "\n"
     ]
    }
   ],
   "source": [
    "l = []\n",
    "for i in s:\n",
    "    if nnan(floty(i)):\n",
    "        l.append(weekday(i)+1)\n",
    "    else:\n",
    "        l.append(0)"
   ]
  },
  {
   "cell_type": "code",
   "execution_count": 137,
   "metadata": {
    "collapsed": false
   },
   "outputs": [],
   "source": [
    "week = pd.DataFrame(data = list(zip(l)), columns=[\"Weekday\"])"
   ]
  },
  {
   "cell_type": "code",
   "execution_count": 151,
   "metadata": {
    "collapsed": false
   },
   "outputs": [],
   "source": [
    "mega_list = mega_list.reset_index()"
   ]
  },
  {
   "cell_type": "code",
   "execution_count": 152,
   "metadata": {
    "collapsed": false
   },
   "outputs": [
    {
     "data": {
      "text/html": [
       "<div>\n",
       "<table border=\"1\" class=\"dataframe\">\n",
       "  <thead>\n",
       "    <tr style=\"text-align: right;\">\n",
       "      <th></th>\n",
       "      <th>index</th>\n",
       "      <th>Day</th>\n",
       "      <th>Trip_ID</th>\n",
       "      <th>Operator_ID</th>\n",
       "      <th>Shortform_Operator_Name</th>\n",
       "      <th>Full_Operator_Name</th>\n",
       "      <th>Transport_Mean_ID</th>\n",
       "      <th>Technical_Key</th>\n",
       "      <th>Communicated_Text</th>\n",
       "      <th>Identify_Daily_Routine</th>\n",
       "      <th>...</th>\n",
       "      <th>Cancelled</th>\n",
       "      <th>Commercial_Stop_Identifyer</th>\n",
       "      <th>Commercial_Stop_Name</th>\n",
       "      <th>Arrival_Time</th>\n",
       "      <th>Expected_Arrival_Time</th>\n",
       "      <th>Ex_Status</th>\n",
       "      <th>Departure_Time</th>\n",
       "      <th>Expected_Departure_Time</th>\n",
       "      <th>De_Status</th>\n",
       "      <th>Stopped_as_expected</th>\n",
       "    </tr>\n",
       "  </thead>\n",
       "  <tbody>\n",
       "    <tr>\n",
       "      <th>5134020</th>\n",
       "      <td>62243</td>\n",
       "      <td>17.11.2016</td>\n",
       "      <td>85:11:992:001</td>\n",
       "      <td>85:11:00</td>\n",
       "      <td>SBB</td>\n",
       "      <td>Schweizerische Bundesbahnen SBB</td>\n",
       "      <td>Zug</td>\n",
       "      <td>992.0</td>\n",
       "      <td>IC</td>\n",
       "      <td>NaN</td>\n",
       "      <td>...</td>\n",
       "      <td>False</td>\n",
       "      <td>8507492.0</td>\n",
       "      <td>Interlaken Ost</td>\n",
       "      <td>NaN</td>\n",
       "      <td>NaN</td>\n",
       "      <td>PROGNOSE</td>\n",
       "      <td>17.11.2016 23:00</td>\n",
       "      <td>17.11.2016 23:00</td>\n",
       "      <td>GESCHAETZT</td>\n",
       "      <td>False</td>\n",
       "    </tr>\n",
       "    <tr>\n",
       "      <th>5134021</th>\n",
       "      <td>62244</td>\n",
       "      <td>17.11.2016</td>\n",
       "      <td>85:11:992:001</td>\n",
       "      <td>85:11:00</td>\n",
       "      <td>SBB</td>\n",
       "      <td>Schweizerische Bundesbahnen SBB</td>\n",
       "      <td>Zug</td>\n",
       "      <td>992.0</td>\n",
       "      <td>IC</td>\n",
       "      <td>NaN</td>\n",
       "      <td>...</td>\n",
       "      <td>False</td>\n",
       "      <td>8507493.0</td>\n",
       "      <td>Interlaken West</td>\n",
       "      <td>17.11.2016 23:03</td>\n",
       "      <td>17.11.2016 23:03</td>\n",
       "      <td>GESCHAETZT</td>\n",
       "      <td>17.11.2016 23:05</td>\n",
       "      <td>17.11.2016 23:05</td>\n",
       "      <td>GESCHAETZT</td>\n",
       "      <td>False</td>\n",
       "    </tr>\n",
       "    <tr>\n",
       "      <th>5134022</th>\n",
       "      <td>62245</td>\n",
       "      <td>17.11.2016</td>\n",
       "      <td>85:11:992:001</td>\n",
       "      <td>85:11:00</td>\n",
       "      <td>SBB</td>\n",
       "      <td>Schweizerische Bundesbahnen SBB</td>\n",
       "      <td>Zug</td>\n",
       "      <td>992.0</td>\n",
       "      <td>IC</td>\n",
       "      <td>NaN</td>\n",
       "      <td>...</td>\n",
       "      <td>False</td>\n",
       "      <td>8507483.0</td>\n",
       "      <td>Spiez</td>\n",
       "      <td>17.11.2016 23:21</td>\n",
       "      <td>17.11.2016 23:20</td>\n",
       "      <td>GESCHAETZT</td>\n",
       "      <td>17.11.2016 23:22</td>\n",
       "      <td>17.11.2016 23:22</td>\n",
       "      <td>GESCHAETZT</td>\n",
       "      <td>False</td>\n",
       "    </tr>\n",
       "    <tr>\n",
       "      <th>5134023</th>\n",
       "      <td>62246</td>\n",
       "      <td>17.11.2016</td>\n",
       "      <td>85:11:992:001</td>\n",
       "      <td>85:11:00</td>\n",
       "      <td>SBB</td>\n",
       "      <td>Schweizerische Bundesbahnen SBB</td>\n",
       "      <td>Zug</td>\n",
       "      <td>992.0</td>\n",
       "      <td>IC</td>\n",
       "      <td>NaN</td>\n",
       "      <td>...</td>\n",
       "      <td>False</td>\n",
       "      <td>8507100.0</td>\n",
       "      <td>Thun</td>\n",
       "      <td>17.11.2016 23:32</td>\n",
       "      <td>17.11.2016 23:31</td>\n",
       "      <td>GESCHAETZT</td>\n",
       "      <td>17.11.2016 23:33</td>\n",
       "      <td>17.11.2016 23:33</td>\n",
       "      <td>GESCHAETZT</td>\n",
       "      <td>False</td>\n",
       "    </tr>\n",
       "    <tr>\n",
       "      <th>5134024</th>\n",
       "      <td>62247</td>\n",
       "      <td>17.11.2016</td>\n",
       "      <td>85:11:992:001</td>\n",
       "      <td>85:11:00</td>\n",
       "      <td>SBB</td>\n",
       "      <td>Schweizerische Bundesbahnen SBB</td>\n",
       "      <td>Zug</td>\n",
       "      <td>992.0</td>\n",
       "      <td>IC</td>\n",
       "      <td>NaN</td>\n",
       "      <td>...</td>\n",
       "      <td>False</td>\n",
       "      <td>8507000.0</td>\n",
       "      <td>Bern</td>\n",
       "      <td>17.11.2016 23:52</td>\n",
       "      <td>17.11.2016 23:52</td>\n",
       "      <td>GESCHAETZT</td>\n",
       "      <td>NaN</td>\n",
       "      <td>NaN</td>\n",
       "      <td>PROGNOSE</td>\n",
       "      <td>False</td>\n",
       "    </tr>\n",
       "  </tbody>\n",
       "</table>\n",
       "<p>5 rows × 22 columns</p>\n",
       "</div>"
      ],
      "text/plain": [
       "         index         Day        Trip_ID Operator_ID Shortform_Operator_Name  \\\n",
       "5134020  62243  17.11.2016  85:11:992:001    85:11:00                     SBB   \n",
       "5134021  62244  17.11.2016  85:11:992:001    85:11:00                     SBB   \n",
       "5134022  62245  17.11.2016  85:11:992:001    85:11:00                     SBB   \n",
       "5134023  62246  17.11.2016  85:11:992:001    85:11:00                     SBB   \n",
       "5134024  62247  17.11.2016  85:11:992:001    85:11:00                     SBB   \n",
       "\n",
       "                      Full_Operator_Name Transport_Mean_ID  Technical_Key  \\\n",
       "5134020  Schweizerische Bundesbahnen SBB               Zug          992.0   \n",
       "5134021  Schweizerische Bundesbahnen SBB               Zug          992.0   \n",
       "5134022  Schweizerische Bundesbahnen SBB               Zug          992.0   \n",
       "5134023  Schweizerische Bundesbahnen SBB               Zug          992.0   \n",
       "5134024  Schweizerische Bundesbahnen SBB               Zug          992.0   \n",
       "\n",
       "        Communicated_Text  Identify_Daily_Routine         ...          \\\n",
       "5134020                IC                     NaN         ...           \n",
       "5134021                IC                     NaN         ...           \n",
       "5134022                IC                     NaN         ...           \n",
       "5134023                IC                     NaN         ...           \n",
       "5134024                IC                     NaN         ...           \n",
       "\n",
       "        Cancelled Commercial_Stop_Identifyer Commercial_Stop_Name  \\\n",
       "5134020     False                  8507492.0       Interlaken Ost   \n",
       "5134021     False                  8507493.0      Interlaken West   \n",
       "5134022     False                  8507483.0                Spiez   \n",
       "5134023     False                  8507100.0                 Thun   \n",
       "5134024     False                  8507000.0                 Bern   \n",
       "\n",
       "             Arrival_Time Expected_Arrival_Time   Ex_Status    Departure_Time  \\\n",
       "5134020               NaN                   NaN    PROGNOSE  17.11.2016 23:00   \n",
       "5134021  17.11.2016 23:03      17.11.2016 23:03  GESCHAETZT  17.11.2016 23:05   \n",
       "5134022  17.11.2016 23:21      17.11.2016 23:20  GESCHAETZT  17.11.2016 23:22   \n",
       "5134023  17.11.2016 23:32      17.11.2016 23:31  GESCHAETZT  17.11.2016 23:33   \n",
       "5134024  17.11.2016 23:52      17.11.2016 23:52  GESCHAETZT               NaN   \n",
       "\n",
       "        Expected_Departure_Time   De_Status Stopped_as_expected  \n",
       "5134020        17.11.2016 23:00  GESCHAETZT               False  \n",
       "5134021        17.11.2016 23:05  GESCHAETZT               False  \n",
       "5134022        17.11.2016 23:22  GESCHAETZT               False  \n",
       "5134023        17.11.2016 23:33  GESCHAETZT               False  \n",
       "5134024                     NaN    PROGNOSE               False  \n",
       "\n",
       "[5 rows x 22 columns]"
      ]
     },
     "execution_count": 152,
     "metadata": {},
     "output_type": "execute_result"
    }
   ],
   "source": [
    "mega_list.tail()"
   ]
  },
  {
   "cell_type": "code",
   "execution_count": 154,
   "metadata": {
    "collapsed": false
   },
   "outputs": [],
   "source": [
    "united = pd.concat([mega_list, week], axis = 1)"
   ]
  },
  {
   "cell_type": "code",
   "execution_count": 155,
   "metadata": {
    "collapsed": false,
    "scrolled": true
   },
   "outputs": [
    {
     "data": {
      "text/html": [
       "<div>\n",
       "<table border=\"1\" class=\"dataframe\">\n",
       "  <thead>\n",
       "    <tr style=\"text-align: right;\">\n",
       "      <th></th>\n",
       "      <th>index</th>\n",
       "      <th>Day</th>\n",
       "      <th>Trip_ID</th>\n",
       "      <th>Operator_ID</th>\n",
       "      <th>Shortform_Operator_Name</th>\n",
       "      <th>Full_Operator_Name</th>\n",
       "      <th>Transport_Mean_ID</th>\n",
       "      <th>Technical_Key</th>\n",
       "      <th>Communicated_Text</th>\n",
       "      <th>Identify_Daily_Routine</th>\n",
       "      <th>...</th>\n",
       "      <th>Commercial_Stop_Identifyer</th>\n",
       "      <th>Commercial_Stop_Name</th>\n",
       "      <th>Arrival_Time</th>\n",
       "      <th>Expected_Arrival_Time</th>\n",
       "      <th>Ex_Status</th>\n",
       "      <th>Departure_Time</th>\n",
       "      <th>Expected_Departure_Time</th>\n",
       "      <th>De_Status</th>\n",
       "      <th>Stopped_as_expected</th>\n",
       "      <th>Weekday</th>\n",
       "    </tr>\n",
       "  </thead>\n",
       "  <tbody>\n",
       "    <tr>\n",
       "      <th>5134020</th>\n",
       "      <td>62243</td>\n",
       "      <td>17.11.2016</td>\n",
       "      <td>85:11:992:001</td>\n",
       "      <td>85:11:00</td>\n",
       "      <td>SBB</td>\n",
       "      <td>Schweizerische Bundesbahnen SBB</td>\n",
       "      <td>Zug</td>\n",
       "      <td>992.0</td>\n",
       "      <td>IC</td>\n",
       "      <td>NaN</td>\n",
       "      <td>...</td>\n",
       "      <td>8507492.0</td>\n",
       "      <td>Interlaken Ost</td>\n",
       "      <td>NaN</td>\n",
       "      <td>NaN</td>\n",
       "      <td>PROGNOSE</td>\n",
       "      <td>17.11.2016 23:00</td>\n",
       "      <td>17.11.2016 23:00</td>\n",
       "      <td>GESCHAETZT</td>\n",
       "      <td>False</td>\n",
       "      <td>4</td>\n",
       "    </tr>\n",
       "    <tr>\n",
       "      <th>5134021</th>\n",
       "      <td>62244</td>\n",
       "      <td>17.11.2016</td>\n",
       "      <td>85:11:992:001</td>\n",
       "      <td>85:11:00</td>\n",
       "      <td>SBB</td>\n",
       "      <td>Schweizerische Bundesbahnen SBB</td>\n",
       "      <td>Zug</td>\n",
       "      <td>992.0</td>\n",
       "      <td>IC</td>\n",
       "      <td>NaN</td>\n",
       "      <td>...</td>\n",
       "      <td>8507493.0</td>\n",
       "      <td>Interlaken West</td>\n",
       "      <td>17.11.2016 23:03</td>\n",
       "      <td>17.11.2016 23:03</td>\n",
       "      <td>GESCHAETZT</td>\n",
       "      <td>17.11.2016 23:05</td>\n",
       "      <td>17.11.2016 23:05</td>\n",
       "      <td>GESCHAETZT</td>\n",
       "      <td>False</td>\n",
       "      <td>4</td>\n",
       "    </tr>\n",
       "    <tr>\n",
       "      <th>5134022</th>\n",
       "      <td>62245</td>\n",
       "      <td>17.11.2016</td>\n",
       "      <td>85:11:992:001</td>\n",
       "      <td>85:11:00</td>\n",
       "      <td>SBB</td>\n",
       "      <td>Schweizerische Bundesbahnen SBB</td>\n",
       "      <td>Zug</td>\n",
       "      <td>992.0</td>\n",
       "      <td>IC</td>\n",
       "      <td>NaN</td>\n",
       "      <td>...</td>\n",
       "      <td>8507483.0</td>\n",
       "      <td>Spiez</td>\n",
       "      <td>17.11.2016 23:21</td>\n",
       "      <td>17.11.2016 23:20</td>\n",
       "      <td>GESCHAETZT</td>\n",
       "      <td>17.11.2016 23:22</td>\n",
       "      <td>17.11.2016 23:22</td>\n",
       "      <td>GESCHAETZT</td>\n",
       "      <td>False</td>\n",
       "      <td>4</td>\n",
       "    </tr>\n",
       "    <tr>\n",
       "      <th>5134023</th>\n",
       "      <td>62246</td>\n",
       "      <td>17.11.2016</td>\n",
       "      <td>85:11:992:001</td>\n",
       "      <td>85:11:00</td>\n",
       "      <td>SBB</td>\n",
       "      <td>Schweizerische Bundesbahnen SBB</td>\n",
       "      <td>Zug</td>\n",
       "      <td>992.0</td>\n",
       "      <td>IC</td>\n",
       "      <td>NaN</td>\n",
       "      <td>...</td>\n",
       "      <td>8507100.0</td>\n",
       "      <td>Thun</td>\n",
       "      <td>17.11.2016 23:32</td>\n",
       "      <td>17.11.2016 23:31</td>\n",
       "      <td>GESCHAETZT</td>\n",
       "      <td>17.11.2016 23:33</td>\n",
       "      <td>17.11.2016 23:33</td>\n",
       "      <td>GESCHAETZT</td>\n",
       "      <td>False</td>\n",
       "      <td>4</td>\n",
       "    </tr>\n",
       "    <tr>\n",
       "      <th>5134024</th>\n",
       "      <td>62247</td>\n",
       "      <td>17.11.2016</td>\n",
       "      <td>85:11:992:001</td>\n",
       "      <td>85:11:00</td>\n",
       "      <td>SBB</td>\n",
       "      <td>Schweizerische Bundesbahnen SBB</td>\n",
       "      <td>Zug</td>\n",
       "      <td>992.0</td>\n",
       "      <td>IC</td>\n",
       "      <td>NaN</td>\n",
       "      <td>...</td>\n",
       "      <td>8507000.0</td>\n",
       "      <td>Bern</td>\n",
       "      <td>17.11.2016 23:52</td>\n",
       "      <td>17.11.2016 23:52</td>\n",
       "      <td>GESCHAETZT</td>\n",
       "      <td>NaN</td>\n",
       "      <td>NaN</td>\n",
       "      <td>PROGNOSE</td>\n",
       "      <td>False</td>\n",
       "      <td>4</td>\n",
       "    </tr>\n",
       "  </tbody>\n",
       "</table>\n",
       "<p>5 rows × 23 columns</p>\n",
       "</div>"
      ],
      "text/plain": [
       "         index         Day        Trip_ID Operator_ID Shortform_Operator_Name  \\\n",
       "5134020  62243  17.11.2016  85:11:992:001    85:11:00                     SBB   \n",
       "5134021  62244  17.11.2016  85:11:992:001    85:11:00                     SBB   \n",
       "5134022  62245  17.11.2016  85:11:992:001    85:11:00                     SBB   \n",
       "5134023  62246  17.11.2016  85:11:992:001    85:11:00                     SBB   \n",
       "5134024  62247  17.11.2016  85:11:992:001    85:11:00                     SBB   \n",
       "\n",
       "                      Full_Operator_Name Transport_Mean_ID  Technical_Key  \\\n",
       "5134020  Schweizerische Bundesbahnen SBB               Zug          992.0   \n",
       "5134021  Schweizerische Bundesbahnen SBB               Zug          992.0   \n",
       "5134022  Schweizerische Bundesbahnen SBB               Zug          992.0   \n",
       "5134023  Schweizerische Bundesbahnen SBB               Zug          992.0   \n",
       "5134024  Schweizerische Bundesbahnen SBB               Zug          992.0   \n",
       "\n",
       "        Communicated_Text  Identify_Daily_Routine   ...    \\\n",
       "5134020                IC                     NaN   ...     \n",
       "5134021                IC                     NaN   ...     \n",
       "5134022                IC                     NaN   ...     \n",
       "5134023                IC                     NaN   ...     \n",
       "5134024                IC                     NaN   ...     \n",
       "\n",
       "        Commercial_Stop_Identifyer Commercial_Stop_Name      Arrival_Time  \\\n",
       "5134020                  8507492.0       Interlaken Ost               NaN   \n",
       "5134021                  8507493.0      Interlaken West  17.11.2016 23:03   \n",
       "5134022                  8507483.0                Spiez  17.11.2016 23:21   \n",
       "5134023                  8507100.0                 Thun  17.11.2016 23:32   \n",
       "5134024                  8507000.0                 Bern  17.11.2016 23:52   \n",
       "\n",
       "         Expected_Arrival_Time   Ex_Status    Departure_Time  \\\n",
       "5134020                    NaN    PROGNOSE  17.11.2016 23:00   \n",
       "5134021       17.11.2016 23:03  GESCHAETZT  17.11.2016 23:05   \n",
       "5134022       17.11.2016 23:20  GESCHAETZT  17.11.2016 23:22   \n",
       "5134023       17.11.2016 23:31  GESCHAETZT  17.11.2016 23:33   \n",
       "5134024       17.11.2016 23:52  GESCHAETZT               NaN   \n",
       "\n",
       "        Expected_Departure_Time   De_Status Stopped_as_expected Weekday  \n",
       "5134020        17.11.2016 23:00  GESCHAETZT               False       4  \n",
       "5134021        17.11.2016 23:05  GESCHAETZT               False       4  \n",
       "5134022        17.11.2016 23:22  GESCHAETZT               False       4  \n",
       "5134023        17.11.2016 23:33  GESCHAETZT               False       4  \n",
       "5134024                     NaN    PROGNOSE               False       4  \n",
       "\n",
       "[5 rows x 23 columns]"
      ]
     },
     "execution_count": 155,
     "metadata": {},
     "output_type": "execute_result"
    }
   ],
   "source": [
    "united.tail()"
   ]
  },
  {
   "cell_type": "code",
   "execution_count": 168,
   "metadata": {
    "collapsed": false
   },
   "outputs": [
    {
     "data": {
      "text/html": [
       "<div>\n",
       "<table border=\"1\" class=\"dataframe\">\n",
       "  <thead>\n",
       "    <tr style=\"text-align: right;\">\n",
       "      <th></th>\n",
       "      <th>index</th>\n",
       "      <th>Day</th>\n",
       "      <th>Trip_ID</th>\n",
       "      <th>Operator_ID</th>\n",
       "      <th>Shortform_Operator_Name</th>\n",
       "      <th>Full_Operator_Name</th>\n",
       "      <th>Transport_Mean_ID</th>\n",
       "      <th>Technical_Key</th>\n",
       "      <th>Communicated_Text</th>\n",
       "      <th>Identify_Daily_Routine</th>\n",
       "      <th>...</th>\n",
       "      <th>Commercial_Stop_Identifyer</th>\n",
       "      <th>Commercial_Stop_Name</th>\n",
       "      <th>Arrival_Time</th>\n",
       "      <th>Expected_Arrival_Time</th>\n",
       "      <th>Ex_Status</th>\n",
       "      <th>Departure_Time</th>\n",
       "      <th>Expected_Departure_Time</th>\n",
       "      <th>De_Status</th>\n",
       "      <th>Stopped_as_expected</th>\n",
       "      <th>Weekday</th>\n",
       "    </tr>\n",
       "  </thead>\n",
       "  <tbody>\n",
       "    <tr>\n",
       "      <th>0</th>\n",
       "      <td>0</td>\n",
       "      <td>18.08.2016</td>\n",
       "      <td>85:11:100:001</td>\n",
       "      <td>85:11:00</td>\n",
       "      <td>SBB</td>\n",
       "      <td>Schweizerische Bundesbahnen SBB</td>\n",
       "      <td>Zug</td>\n",
       "      <td>100.0</td>\n",
       "      <td>ICE</td>\n",
       "      <td>NaN</td>\n",
       "      <td>...</td>\n",
       "      <td>8500010.0</td>\n",
       "      <td>Basel SBB</td>\n",
       "      <td>NaN</td>\n",
       "      <td>NaN</td>\n",
       "      <td>PROGNOSE</td>\n",
       "      <td>18.08.2016 19:13</td>\n",
       "      <td>18.08.2016 19:13</td>\n",
       "      <td>GESCHAETZT</td>\n",
       "      <td>False</td>\n",
       "      <td>4</td>\n",
       "    </tr>\n",
       "    <tr>\n",
       "      <th>1</th>\n",
       "      <td>1</td>\n",
       "      <td>18.08.2016</td>\n",
       "      <td>85:11:100:001</td>\n",
       "      <td>85:11:00</td>\n",
       "      <td>SBB</td>\n",
       "      <td>Schweizerische Bundesbahnen SBB</td>\n",
       "      <td>Zug</td>\n",
       "      <td>100.0</td>\n",
       "      <td>ICE</td>\n",
       "      <td>NaN</td>\n",
       "      <td>...</td>\n",
       "      <td>8500090.0</td>\n",
       "      <td>Basel Bad Bf</td>\n",
       "      <td>18.08.2016 19:19</td>\n",
       "      <td>NaN</td>\n",
       "      <td>UNBEKANNT</td>\n",
       "      <td>18.08.2016 19:23</td>\n",
       "      <td>NaN</td>\n",
       "      <td>UNBEKANNT</td>\n",
       "      <td>False</td>\n",
       "      <td>4</td>\n",
       "    </tr>\n",
       "  </tbody>\n",
       "</table>\n",
       "<p>2 rows × 23 columns</p>\n",
       "</div>"
      ],
      "text/plain": [
       "   index         Day        Trip_ID Operator_ID Shortform_Operator_Name  \\\n",
       "0      0  18.08.2016  85:11:100:001    85:11:00                     SBB   \n",
       "1      1  18.08.2016  85:11:100:001    85:11:00                     SBB   \n",
       "\n",
       "                Full_Operator_Name Transport_Mean_ID  Technical_Key  \\\n",
       "0  Schweizerische Bundesbahnen SBB               Zug          100.0   \n",
       "1  Schweizerische Bundesbahnen SBB               Zug          100.0   \n",
       "\n",
       "  Communicated_Text  Identify_Daily_Routine   ...    \\\n",
       "0               ICE                     NaN   ...     \n",
       "1               ICE                     NaN   ...     \n",
       "\n",
       "  Commercial_Stop_Identifyer Commercial_Stop_Name      Arrival_Time  \\\n",
       "0                  8500010.0            Basel SBB               NaN   \n",
       "1                  8500090.0         Basel Bad Bf  18.08.2016 19:19   \n",
       "\n",
       "   Expected_Arrival_Time  Ex_Status    Departure_Time Expected_Departure_Time  \\\n",
       "0                    NaN   PROGNOSE  18.08.2016 19:13        18.08.2016 19:13   \n",
       "1                    NaN  UNBEKANNT  18.08.2016 19:23                     NaN   \n",
       "\n",
       "    De_Status Stopped_as_expected Weekday  \n",
       "0  GESCHAETZT               False       4  \n",
       "1   UNBEKANNT               False       4  \n",
       "\n",
       "[2 rows x 23 columns]"
      ]
     },
     "execution_count": 168,
     "metadata": {},
     "output_type": "execute_result"
    }
   ],
   "source": [
    "united.head(2)"
   ]
  },
  {
   "cell_type": "code",
   "execution_count": 169,
   "metadata": {
    "collapsed": false
   },
   "outputs": [
    {
     "data": {
      "text/html": [
       "<div>\n",
       "<table border=\"1\" class=\"dataframe\">\n",
       "  <thead>\n",
       "    <tr style=\"text-align: right;\">\n",
       "      <th></th>\n",
       "      <th>20160818.0</th>\n",
       "      <th>20160819.0</th>\n",
       "      <th>20160820.0</th>\n",
       "      <th>20160821.0</th>\n",
       "      <th>20160822.0</th>\n",
       "      <th>20160823.0</th>\n",
       "      <th>20160824.0</th>\n",
       "      <th>20160825.0</th>\n",
       "      <th>20160826.0</th>\n",
       "      <th>20160827.0</th>\n",
       "      <th>...</th>\n",
       "      <th>20161022.0</th>\n",
       "      <th>20161023.0</th>\n",
       "      <th>20161024.0</th>\n",
       "      <th>20161025.0</th>\n",
       "      <th>20161026.0</th>\n",
       "      <th>20161027.0</th>\n",
       "      <th>20161028.0</th>\n",
       "      <th>20161029.0</th>\n",
       "      <th>20161030.0</th>\n",
       "      <th>20161031.0</th>\n",
       "    </tr>\n",
       "  </thead>\n",
       "  <tbody>\n",
       "    <tr>\n",
       "      <th>5501024.0</th>\n",
       "      <td>113</td>\n",
       "      <td>0</td>\n",
       "      <td>54</td>\n",
       "      <td>0</td>\n",
       "      <td>0</td>\n",
       "      <td>0</td>\n",
       "      <td>0</td>\n",
       "      <td>0</td>\n",
       "      <td>0</td>\n",
       "      <td>5</td>\n",
       "      <td>...</td>\n",
       "      <td>0</td>\n",
       "      <td>70</td>\n",
       "      <td>132</td>\n",
       "      <td>207</td>\n",
       "      <td>49</td>\n",
       "      <td>0</td>\n",
       "      <td>0</td>\n",
       "      <td>0</td>\n",
       "      <td>0</td>\n",
       "      <td>0</td>\n",
       "    </tr>\n",
       "    <tr>\n",
       "      <th>5501131.0</th>\n",
       "      <td>113</td>\n",
       "      <td>0</td>\n",
       "      <td>54</td>\n",
       "      <td>0</td>\n",
       "      <td>0</td>\n",
       "      <td>0</td>\n",
       "      <td>0</td>\n",
       "      <td>0</td>\n",
       "      <td>0</td>\n",
       "      <td>5</td>\n",
       "      <td>...</td>\n",
       "      <td>0</td>\n",
       "      <td>70</td>\n",
       "      <td>132</td>\n",
       "      <td>207</td>\n",
       "      <td>49</td>\n",
       "      <td>0</td>\n",
       "      <td>0</td>\n",
       "      <td>0</td>\n",
       "      <td>0</td>\n",
       "      <td>0</td>\n",
       "    </tr>\n",
       "  </tbody>\n",
       "</table>\n",
       "<p>2 rows × 75 columns</p>\n",
       "</div>"
      ],
      "text/plain": [
       "           20160818.0  20160819.0  20160820.0  20160821.0  20160822.0  \\\n",
       "5501024.0         113           0          54           0           0   \n",
       "5501131.0         113           0          54           0           0   \n",
       "\n",
       "           20160823.0  20160824.0  20160825.0  20160826.0  20160827.0  \\\n",
       "5501024.0           0           0           0           0           5   \n",
       "5501131.0           0           0           0           0           5   \n",
       "\n",
       "              ...      20161022.0  20161023.0  20161024.0  20161025.0  \\\n",
       "5501024.0     ...               0          70         132         207   \n",
       "5501131.0     ...               0          70         132         207   \n",
       "\n",
       "           20161026.0  20161027.0  20161028.0  20161029.0  20161030.0  \\\n",
       "5501024.0          49           0           0           0           0   \n",
       "5501131.0          49           0           0           0           0   \n",
       "\n",
       "           20161031.0  \n",
       "5501024.0           0  \n",
       "5501131.0           0  \n",
       "\n",
       "[2 rows x 75 columns]"
      ]
     },
     "execution_count": 169,
     "metadata": {},
     "output_type": "execute_result"
    }
   ],
   "source": [
    "cities_day_weather.head(2)"
   ]
  },
  {
   "cell_type": "markdown",
   "metadata": {},
   "source": [
    "We will now try to compute the average delay given a route, time of the day and weather."
   ]
  },
  {
   "cell_type": "code",
   "execution_count": 171,
   "metadata": {
    "collapsed": true
   },
   "outputs": [],
   "source": [
    "#EXAMPLE: 22 august, route 101 "
   ]
  },
  {
   "cell_type": "code",
   "execution_count": 246,
   "metadata": {
    "collapsed": false
   },
   "outputs": [],
   "source": [
    "a = list(united[\"Commercial_Stop_Identifyer\"][united[\"Weekday\"] == 1][united[\"Technical_Key\"] == 101].unique())\n",
    "b = list(united[\"Day\"][united[\"Weekday\"] == 1][united[\"Technical_Key\"] == 101].unique())"
   ]
  },
  {
   "cell_type": "code",
   "execution_count": 255,
   "metadata": {
    "collapsed": true
   },
   "outputs": [],
   "source": [
    "#un dilluns, plovent 0<=x<=20, línia 18893.0"
   ]
  },
  {
   "cell_type": "code",
   "execution_count": 4,
   "metadata": {
    "collapsed": false
   },
   "outputs": [],
   "source": [
    "def convert(s):\n",
    "    return datetime.datetime(int(s[6:11]),int(s[3:5]),int(s[0:2]),int(s[11:13]),int(s[14:16]))"
   ]
  },
  {
   "cell_type": "code",
   "execution_count": 269,
   "metadata": {
    "collapsed": false
   },
   "outputs": [],
   "source": [
    "def date_conversion(s):\n",
    "    return float(s[6:10])*10000+float(s[3:5])*100+float(s[0:2])"
   ]
  },
  {
   "cell_type": "code",
   "execution_count": 382,
   "metadata": {
    "collapsed": false
   },
   "outputs": [
    {
     "name": "stderr",
     "output_type": "stream",
     "text": [
      "C:\\Users\\Pau Batlle\\Anaconda2\\lib\\site-packages\\ipykernel\\__main__.py:21: UserWarning: Boolean Series key will be reindexed to match DataFrame index.\n"
     ]
    },
    {
     "name": "stdout",
     "output_type": "stream",
     "text": [
      "509 1 0 123.75\n",
      "509 1 1 165.0\n",
      "509 1 2 97.5\n",
      "509 2 0 165.0\n",
      "509 2 1 None\n",
      "509 2 2 75.0\n",
      "509 3 0 137.5\n",
      "509 3 1 None\n",
      "509 3 2 None\n",
      "509 4 0 168.157894737\n",
      "509 4 1 250.0\n",
      "509 4 2 None\n",
      "509 5 0 111.666666667\n",
      "509 5 1 None\n",
      "509 5 2 None\n",
      "509 6 0 105.9375\n",
      "509 6 1 146.25\n",
      "509 6 2 None\n",
      "509 7 0 187.5\n",
      "509 7 1 90.0\n",
      "509 7 2 45.0\n",
      "1511 1 0 128.571428571\n",
      "1511 1 1 180.0\n",
      "1511 1 2 102.857142857\n",
      "1511 2 0 170.526315789\n",
      "1511 2 1 None\n",
      "1511 2 2 75.0\n",
      "1511 3 0 140.0\n",
      "1511 3 1 None\n",
      "1511 3 2 None\n",
      "1511 4 0 168.157894737\n",
      "1511 4 1 250.0\n",
      "1511 4 2 None\n",
      "1511 5 0 117.142857143\n",
      "1511 5 1 None\n",
      "1511 5 2 None\n",
      "1511 6 0 115.636363636\n",
      "1511 6 1 156.0\n",
      "1511 6 2 None\n",
      "1511 7 0 198.367346939\n",
      "1511 7 1 102.352941176\n",
      "1511 7 2 45.0\n",
      "707 1 0 75.0\n",
      "707 1 1 None\n",
      "707 1 2 60.0\n",
      "707 2 0 108.0\n",
      "707 2 1 None\n",
      "707 2 2 60.0\n",
      "707 3 0 80.0\n",
      "707 3 1 None\n",
      "707 3 2 None\n",
      "707 4 0 112.5\n",
      "707 4 1 80.0\n",
      "707 4 2 None\n",
      "707 5 0 66.6666666667\n",
      "707 5 1 None\n",
      "707 5 2 None\n",
      "707 6 0 97.5\n",
      "707 6 1 105.0\n",
      "707 6 2 None\n",
      "707 7 0 162.857142857\n",
      "707 7 1 0.0\n",
      "707 7 2 0.0\n",
      "1513 1 0 128.571428571\n",
      "1513 1 1 180.0\n",
      "1513 1 2 102.857142857\n",
      "1513 2 0 170.526315789\n",
      "1513 2 1 None\n",
      "1513 2 2 75.0\n",
      "1513 3 0 140.0\n",
      "1513 3 1 None\n",
      "1513 3 2 None\n",
      "1513 4 0 171.692307692\n",
      "1513 4 1 250.0\n",
      "1513 4 2 None\n",
      "1513 5 0 117.142857143\n",
      "1513 5 1 None\n",
      "1513 5 2 None\n",
      "1513 6 0 115.636363636\n",
      "1513 6 1 156.0\n",
      "1513 6 2 None\n",
      "1513 7 0 198.367346939\n",
      "1513 7 1 102.352941176\n",
      "1513 7 2 45.0\n",
      "709 1 0 75.0\n",
      "709 1 1 None\n",
      "709 1 2 60.0\n",
      "709 2 0 108.0\n",
      "709 2 1 None\n",
      "709 2 2 60.0\n",
      "709 3 0 80.0\n",
      "709 3 1 None\n",
      "709 3 2 None\n",
      "709 4 0 112.5\n",
      "709 4 1 80.0\n",
      "709 4 2 None\n",
      "709 5 0 66.6666666667\n",
      "709 5 1 None\n",
      "709 5 2 None\n",
      "709 6 0 111.428571429\n",
      "709 6 1 140.0\n",
      "709 6 2 None\n",
      "709 7 0 162.857142857\n",
      "709 7 1 0.0\n",
      "709 7 2 0.0\n"
     ]
    }
   ],
   "source": [
    "results = []\n",
    "routes = [509, 1511, 707, 1513, 709]\n",
    "Weekdays = [1,2,3,4,5,6,7]\n",
    "rain_limit = [[0,50],[50, 150],[150,300]]\n",
    "for A in routes:\n",
    "    for B in Weekdays:\n",
    "        for C in range(len(rain_limit)):\n",
    "            lower_rain_limit = rain_limit[C][0]\n",
    "            upper_rain_limit = rain_limit[C][1]\n",
    "            a = list(united[\"Commercial_Stop_Identifyer\"][united[\"Weekday\"] == B][united[\"Technical_Key\"] == A].unique())\n",
    "            b = list(united[\"Day\"][united[\"Weekday\"] == B][united[\"Technical_Key\"] == A].unique())\n",
    "            first_ref = []\n",
    "            for x in a:\n",
    "                if float(x) in list(cities_day_weather.index):\n",
    "                    for y in b:\n",
    "                        if date_conversion(y) in list(cities_day_weather):\n",
    "                            if lower_rain_limit <= cities_day_weather.ix[x,date_conversion(y)] and cities_day_weather.ix[x,date_conversion(y)] <= upper_rain_limit:\n",
    "                                first_ref.append([x,y])\n",
    "            third_ref= []\n",
    "            for i in range(len(first_ref)):\n",
    "                s = united.loc[united[\"Technical_Key\"] == route][united[\"Commercial_Stop_Identifyer\"]==first_ref[i][0]][united[\"Day\"]==first_ref[i][1]]\n",
    "                if list(s[\"Departure_Time\"].value_counts()) != [] and list(s[\"Expected_Departure_Time\"].value_counts()) != []: \n",
    "                    q = convert(str(s[\"Departure_Time\"].value_counts()))\n",
    "                    w = convert(str(s[\"Expected_Departure_Time\"].value_counts()))\n",
    "                    #print(i,q,w,(w-q).total_seconds())\n",
    "                    third_ref.append(max((w-q).total_seconds(),0.0))\n",
    "            if(len(third_ref) == 0):\n",
    "                results.append(None)\n",
    "                print(A,B,C,None)\n",
    "            else:\n",
    "                results.append(sum(third_ref)/len(third_ref))\n",
    "                print(A,B,C,sum(third_ref)/len(third_ref))"
   ]
  },
  {
   "cell_type": "code",
   "execution_count": 386,
   "metadata": {
    "collapsed": false
   },
   "outputs": [],
   "source": [
    "i = 0\n",
    "vec = []\n",
    "for A in routes:\n",
    "    for B in Weekdays:\n",
    "        for C in rain_limit:\n",
    "            vec.append([A,B,C,results[i]])\n",
    "            i+=1"
   ]
  },
  {
   "cell_type": "code",
   "execution_count": 407,
   "metadata": {
    "collapsed": false
   },
   "outputs": [],
   "source": [
    "df3 = pd.DataFrame(data = vec, columns = [\"Route\", \"Day of the week (1-7)\", \"Rain Range\", \"Expected delay (seconds)\"])"
   ]
  },
  {
   "cell_type": "code",
   "execution_count": 393,
   "metadata": {
    "collapsed": false
   },
   "outputs": [],
   "source": [
    "df.to_csv('Final.csv')"
   ]
  },
  {
   "cell_type": "code",
   "execution_count": 401,
   "metadata": {
    "collapsed": false
   },
   "outputs": [
    {
     "name": "stderr",
     "output_type": "stream",
     "text": [
      "C:\\Users\\Pau Batlle\\Anaconda2\\lib\\site-packages\\ipykernel\\__main__.py:21: UserWarning: Boolean Series key will be reindexed to match DataFrame index.\n"
     ]
    },
    {
     "name": "stdout",
     "output_type": "stream",
     "text": [
      "1823 1 0 75.0\n",
      "1823 2 0 108.0\n",
      "1823 3 0 80.0\n",
      "1823 4 0 112.5\n",
      "1823 5 0 67.5\n",
      "1823 6 0 111.428571429\n",
      "1823 7 0 162.857142857\n",
      "2525 1 0 75.0\n",
      "2525 2 0 108.0\n",
      "2525 3 0 80.0\n",
      "2525 4 0 112.5\n",
      "2525 5 0 66.6666666667\n",
      "2525 6 0 111.428571429\n",
      "2525 7 0 162.857142857\n"
     ]
    }
   ],
   "source": [
    "results2 = []\n",
    "routes = [1823, 2525]\n",
    "Weekdays = [1,2,3,4,5,6,7]\n",
    "rain_limit = [[0,50]]\n",
    "for A in routes:\n",
    "    for B in Weekdays:\n",
    "        for C in range(len(rain_limit)):\n",
    "            lower_rain_limit = rain_limit[C][0]\n",
    "            upper_rain_limit = rain_limit[C][1]\n",
    "            a = list(united[\"Commercial_Stop_Identifyer\"][united[\"Weekday\"] == B][united[\"Technical_Key\"] == A].unique())\n",
    "            b = list(united[\"Day\"][united[\"Weekday\"] == B][united[\"Technical_Key\"] == A].unique())\n",
    "            first_ref = []\n",
    "            for x in a:\n",
    "                if float(x) in list(cities_day_weather.index):\n",
    "                    for y in b:\n",
    "                        if date_conversion(y) in list(cities_day_weather):\n",
    "                            if lower_rain_limit <= cities_day_weather.ix[x,date_conversion(y)] and cities_day_weather.ix[x,date_conversion(y)] <= upper_rain_limit:\n",
    "                                first_ref.append([x,y])\n",
    "            third_ref= []\n",
    "            for i in range(len(first_ref)):\n",
    "                s = united.loc[united[\"Technical_Key\"] == route][united[\"Commercial_Stop_Identifyer\"]==first_ref[i][0]][united[\"Day\"]==first_ref[i][1]]\n",
    "                if list(s[\"Departure_Time\"].value_counts()) != [] and list(s[\"Expected_Departure_Time\"].value_counts()) != []: \n",
    "                    q = convert(str(s[\"Departure_Time\"].value_counts()))\n",
    "                    w = convert(str(s[\"Expected_Departure_Time\"].value_counts()))\n",
    "                    #print(i,q,w,(w-q).total_seconds())\n",
    "                    third_ref.append(max((w-q).total_seconds(),0.0))\n",
    "            if(len(third_ref) == 0):\n",
    "                results2.append(None)\n",
    "                print(A,B,C,None)\n",
    "            else:\n",
    "                results2.append(sum(third_ref)/len(third_ref))\n",
    "                print(A,B,C,sum(third_ref)/len(third_ref))"
   ]
  },
  {
   "cell_type": "code",
   "execution_count": null,
   "metadata": {
    "collapsed": true
   },
   "outputs": [],
   "source": []
  },
  {
   "cell_type": "code",
   "execution_count": 402,
   "metadata": {
    "collapsed": false
   },
   "outputs": [],
   "source": [
    "i = 0\n",
    "vec2 = []\n",
    "for A in routes:\n",
    "    for B in Weekdays:\n",
    "            vec2.append([A,B,results2[i]])\n",
    "            i+=1"
   ]
  },
  {
   "cell_type": "code",
   "execution_count": 403,
   "metadata": {
    "collapsed": false
   },
   "outputs": [],
   "source": [
    "df = pd.DataFrame(data = vec2, columns = [\"Route\", \"Day of the week (1-7)\", \"Expected delay (seconds)\"])"
   ]
  },
  {
   "cell_type": "code",
   "execution_count": 404,
   "metadata": {
    "collapsed": false
   },
   "outputs": [],
   "source": [
    "df.to_csv(\"1823-2525.csv\")"
   ]
  },
  {
   "cell_type": "code",
   "execution_count": 405,
   "metadata": {
    "collapsed": false
   },
   "outputs": [
    {
     "data": {
      "text/html": [
       "<div>\n",
       "<table border=\"1\" class=\"dataframe\">\n",
       "  <thead>\n",
       "    <tr style=\"text-align: right;\">\n",
       "      <th></th>\n",
       "      <th>Route</th>\n",
       "      <th>Day of the week (1-7)</th>\n",
       "      <th>Expected delay (seconds)</th>\n",
       "    </tr>\n",
       "  </thead>\n",
       "  <tbody>\n",
       "    <tr>\n",
       "      <th>0</th>\n",
       "      <td>1823</td>\n",
       "      <td>1</td>\n",
       "      <td>75.0</td>\n",
       "    </tr>\n",
       "    <tr>\n",
       "      <th>1</th>\n",
       "      <td>1823</td>\n",
       "      <td>2</td>\n",
       "      <td>108.0</td>\n",
       "    </tr>\n",
       "    <tr>\n",
       "      <th>2</th>\n",
       "      <td>1823</td>\n",
       "      <td>3</td>\n",
       "      <td>80.0</td>\n",
       "    </tr>\n",
       "    <tr>\n",
       "      <th>3</th>\n",
       "      <td>1823</td>\n",
       "      <td>4</td>\n",
       "      <td>112.5</td>\n",
       "    </tr>\n",
       "    <tr>\n",
       "      <th>4</th>\n",
       "      <td>1823</td>\n",
       "      <td>5</td>\n",
       "      <td>67.5</td>\n",
       "    </tr>\n",
       "  </tbody>\n",
       "</table>\n",
       "</div>"
      ],
      "text/plain": [
       "   Route  Day of the week (1-7)  Expected delay (seconds)\n",
       "0   1823                      1                      75.0\n",
       "1   1823                      2                     108.0\n",
       "2   1823                      3                      80.0\n",
       "3   1823                      4                     112.5\n",
       "4   1823                      5                      67.5"
      ]
     },
     "execution_count": 405,
     "metadata": {},
     "output_type": "execute_result"
    }
   ],
   "source": [
    "df.head()"
   ]
  },
  {
   "cell_type": "code",
   "execution_count": 429,
   "metadata": {
    "collapsed": false
   },
   "outputs": [
    {
     "ename": "TypeError",
     "evalue": "'Series' objects are mutable, thus they cannot be hashed",
     "output_type": "error",
     "traceback": [
      "\u001b[1;31m---------------------------------------------------------------------------\u001b[0m",
      "\u001b[1;31mTypeError\u001b[0m                                 Traceback (most recent call last)",
      "\u001b[1;32m<ipython-input-429-b3bc9456f9b9>\u001b[0m in \u001b[0;36m<module>\u001b[1;34m()\u001b[0m\n\u001b[1;32m----> 1\u001b[1;33m \u001b[0mdf3\u001b[0m\u001b[1;33m[\u001b[0m\u001b[1;33m[\u001b[0m\u001b[1;34m\"Route\"\u001b[0m\u001b[1;33m,\u001b[0m \u001b[1;34m\"Day of the week (1-7)\"\u001b[0m\u001b[1;33m]\u001b[0m\u001b[1;33m]\u001b[0m\u001b[1;33m[\u001b[0m\u001b[0mdf3\u001b[0m\u001b[1;33m[\u001b[0m\u001b[1;34m\"Rain Range\"\u001b[0m\u001b[1;33m]\u001b[0m\u001b[1;33m==\u001b[0m \u001b[1;36m0\u001b[0m\u001b[1;33m,\u001b[0m\u001b[1;36m50\u001b[0m\u001b[1;33m]\u001b[0m\u001b[1;33m\u001b[0m\u001b[0m\n\u001b[0m",
      "\u001b[1;32mC:\\Users\\Pau Batlle\\Anaconda2\\lib\\site-packages\\pandas\\core\\frame.pyc\u001b[0m in \u001b[0;36m__getitem__\u001b[1;34m(self, key)\u001b[0m\n\u001b[0;32m   1990\u001b[0m             \u001b[1;32mreturn\u001b[0m \u001b[0mself\u001b[0m\u001b[1;33m.\u001b[0m\u001b[0m_getitem_multilevel\u001b[0m\u001b[1;33m(\u001b[0m\u001b[0mkey\u001b[0m\u001b[1;33m)\u001b[0m\u001b[1;33m\u001b[0m\u001b[0m\n\u001b[0;32m   1991\u001b[0m         \u001b[1;32melse\u001b[0m\u001b[1;33m:\u001b[0m\u001b[1;33m\u001b[0m\u001b[0m\n\u001b[1;32m-> 1992\u001b[1;33m             \u001b[1;32mreturn\u001b[0m \u001b[0mself\u001b[0m\u001b[1;33m.\u001b[0m\u001b[0m_getitem_column\u001b[0m\u001b[1;33m(\u001b[0m\u001b[0mkey\u001b[0m\u001b[1;33m)\u001b[0m\u001b[1;33m\u001b[0m\u001b[0m\n\u001b[0m\u001b[0;32m   1993\u001b[0m \u001b[1;33m\u001b[0m\u001b[0m\n\u001b[0;32m   1994\u001b[0m     \u001b[1;32mdef\u001b[0m \u001b[0m_getitem_column\u001b[0m\u001b[1;33m(\u001b[0m\u001b[0mself\u001b[0m\u001b[1;33m,\u001b[0m \u001b[0mkey\u001b[0m\u001b[1;33m)\u001b[0m\u001b[1;33m:\u001b[0m\u001b[1;33m\u001b[0m\u001b[0m\n",
      "\u001b[1;32mC:\\Users\\Pau Batlle\\Anaconda2\\lib\\site-packages\\pandas\\core\\frame.pyc\u001b[0m in \u001b[0;36m_getitem_column\u001b[1;34m(self, key)\u001b[0m\n\u001b[0;32m   1997\u001b[0m         \u001b[1;31m# get column\u001b[0m\u001b[1;33m\u001b[0m\u001b[1;33m\u001b[0m\u001b[0m\n\u001b[0;32m   1998\u001b[0m         \u001b[1;32mif\u001b[0m \u001b[0mself\u001b[0m\u001b[1;33m.\u001b[0m\u001b[0mcolumns\u001b[0m\u001b[1;33m.\u001b[0m\u001b[0mis_unique\u001b[0m\u001b[1;33m:\u001b[0m\u001b[1;33m\u001b[0m\u001b[0m\n\u001b[1;32m-> 1999\u001b[1;33m             \u001b[1;32mreturn\u001b[0m \u001b[0mself\u001b[0m\u001b[1;33m.\u001b[0m\u001b[0m_get_item_cache\u001b[0m\u001b[1;33m(\u001b[0m\u001b[0mkey\u001b[0m\u001b[1;33m)\u001b[0m\u001b[1;33m\u001b[0m\u001b[0m\n\u001b[0m\u001b[0;32m   2000\u001b[0m \u001b[1;33m\u001b[0m\u001b[0m\n\u001b[0;32m   2001\u001b[0m         \u001b[1;31m# duplicate columns & possible reduce dimensionality\u001b[0m\u001b[1;33m\u001b[0m\u001b[1;33m\u001b[0m\u001b[0m\n",
      "\u001b[1;32mC:\\Users\\Pau Batlle\\Anaconda2\\lib\\site-packages\\pandas\\core\\generic.pyc\u001b[0m in \u001b[0;36m_get_item_cache\u001b[1;34m(self, item)\u001b[0m\n\u001b[0;32m   1341\u001b[0m         \u001b[1;34m\"\"\"Return the cached item, item represents a label indexer.\"\"\"\u001b[0m\u001b[1;33m\u001b[0m\u001b[0m\n\u001b[0;32m   1342\u001b[0m         \u001b[0mcache\u001b[0m \u001b[1;33m=\u001b[0m \u001b[0mself\u001b[0m\u001b[1;33m.\u001b[0m\u001b[0m_item_cache\u001b[0m\u001b[1;33m\u001b[0m\u001b[0m\n\u001b[1;32m-> 1343\u001b[1;33m         \u001b[0mres\u001b[0m \u001b[1;33m=\u001b[0m \u001b[0mcache\u001b[0m\u001b[1;33m.\u001b[0m\u001b[0mget\u001b[0m\u001b[1;33m(\u001b[0m\u001b[0mitem\u001b[0m\u001b[1;33m)\u001b[0m\u001b[1;33m\u001b[0m\u001b[0m\n\u001b[0m\u001b[0;32m   1344\u001b[0m         \u001b[1;32mif\u001b[0m \u001b[0mres\u001b[0m \u001b[1;32mis\u001b[0m \u001b[0mNone\u001b[0m\u001b[1;33m:\u001b[0m\u001b[1;33m\u001b[0m\u001b[0m\n\u001b[0;32m   1345\u001b[0m             \u001b[0mvalues\u001b[0m \u001b[1;33m=\u001b[0m \u001b[0mself\u001b[0m\u001b[1;33m.\u001b[0m\u001b[0m_data\u001b[0m\u001b[1;33m.\u001b[0m\u001b[0mget\u001b[0m\u001b[1;33m(\u001b[0m\u001b[0mitem\u001b[0m\u001b[1;33m)\u001b[0m\u001b[1;33m\u001b[0m\u001b[0m\n",
      "\u001b[1;32mC:\\Users\\Pau Batlle\\Anaconda2\\lib\\site-packages\\pandas\\core\\generic.pyc\u001b[0m in \u001b[0;36m__hash__\u001b[1;34m(self)\u001b[0m\n\u001b[0;32m    799\u001b[0m     \u001b[1;32mdef\u001b[0m \u001b[0m__hash__\u001b[0m\u001b[1;33m(\u001b[0m\u001b[0mself\u001b[0m\u001b[1;33m)\u001b[0m\u001b[1;33m:\u001b[0m\u001b[1;33m\u001b[0m\u001b[0m\n\u001b[0;32m    800\u001b[0m         raise TypeError('{0!r} objects are mutable, thus they cannot be'\n\u001b[1;32m--> 801\u001b[1;33m                         ' hashed'.format(self.__class__.__name__))\n\u001b[0m\u001b[0;32m    802\u001b[0m \u001b[1;33m\u001b[0m\u001b[0m\n\u001b[0;32m    803\u001b[0m     \u001b[1;32mdef\u001b[0m \u001b[0m__iter__\u001b[0m\u001b[1;33m(\u001b[0m\u001b[0mself\u001b[0m\u001b[1;33m)\u001b[0m\u001b[1;33m:\u001b[0m\u001b[1;33m\u001b[0m\u001b[0m\n",
      "\u001b[1;31mTypeError\u001b[0m: 'Series' objects are mutable, thus they cannot be hashed"
     ]
    }
   ],
   "source": [
    "df3[[\"Route\", \"Day of the week (1-7)\"]][df3[\"Rain Range\"]== 0,50]"
   ]
  },
  {
   "cell_type": "code",
   "execution_count": 426,
   "metadata": {
    "collapsed": false
   },
   "outputs": [
    {
     "data": {
      "text/plain": [
       "Route                         int64\n",
       "Day of the week (1-7)         int64\n",
       "Rain Range                   object\n",
       "Expected delay (seconds)    float64\n",
       "dtype: object"
      ]
     },
     "execution_count": 426,
     "metadata": {},
     "output_type": "execute_result"
    }
   ],
   "source": [
    "df3.dtypes"
   ]
  },
  {
   "cell_type": "code",
   "execution_count": null,
   "metadata": {
    "collapsed": true
   },
   "outputs": [],
   "source": []
  }
 ],
 "metadata": {
  "kernelspec": {
   "display_name": "Python 2",
   "language": "python",
   "name": "python2"
  },
  "language_info": {
   "codemirror_mode": {
    "name": "ipython",
    "version": 2
   },
   "file_extension": ".py",
   "mimetype": "text/x-python",
   "name": "python",
   "nbconvert_exporter": "python",
   "pygments_lexer": "ipython2",
   "version": "2.7.11"
  }
 },
 "nbformat": 4,
 "nbformat_minor": 0
}
